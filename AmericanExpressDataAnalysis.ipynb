{
  "nbformat": 4,
  "nbformat_minor": 0,
  "metadata": {
    "colab": {
      "provenance": [],
      "authorship_tag": "ABX9TyOpyXq4j+EGsKhoSDDgINs7",
      "include_colab_link": true
    },
    "kernelspec": {
      "name": "python3",
      "display_name": "Python 3"
    },
    "language_info": {
      "name": "python"
    }
  },
  "cells": [
    {
      "cell_type": "markdown",
      "metadata": {
        "id": "view-in-github",
        "colab_type": "text"
      },
      "source": [
        "<a href=\"https://colab.research.google.com/github/SamriddhiKhaanduri08/SamriddhiKhaanduri08.github.io/blob/main/AmericanExpressDataAnalysis.ipynb\" target=\"_parent\"><img src=\"https://colab.research.google.com/assets/colab-badge.svg\" alt=\"Open In Colab\"/></a>"
      ]
    },
    {
      "cell_type": "markdown",
      "source": [
        "# **American Express Data Analysis **"
      ],
      "metadata": {
        "id": "3a_Wq_xqZTzK"
      }
    },
    {
      "cell_type": "markdown",
      "source": [
        "  IMPORTING LIBRARIES"
      ],
      "metadata": {
        "id": "VNODdZOKZj9v"
      }
    },
    {
      "cell_type": "code",
      "source": [
        "import numpy as np\n",
        "import pandas as pd\n",
        "import tensorflow as tf"
      ],
      "metadata": {
        "id": "TE44WeaqZ_c2"
      },
      "execution_count": 19,
      "outputs": []
    },
    {
      "cell_type": "code",
      "source": [
        "tf.__version__"
      ],
      "metadata": {
        "colab": {
          "base_uri": "https://localhost:8080/",
          "height": 36
        },
        "id": "_HVVlHrwaCNn",
        "outputId": "1166f72a-e268-4d33-a9aa-9ae6423bb8b7"
      },
      "execution_count": 20,
      "outputs": [
        {
          "output_type": "execute_result",
          "data": {
            "text/plain": [
              "'2.13.0'"
            ],
            "application/vnd.google.colaboratory.intrinsic+json": {
              "type": "string"
            }
          },
          "metadata": {},
          "execution_count": 20
        }
      ]
    },
    {
      "cell_type": "markdown",
      "source": [
        "IMPORTING DATASET\n"
      ],
      "metadata": {
        "id": "FDcCJ1R8Z6h1"
      }
    },
    {
      "cell_type": "code",
      "source": [
        "dataset = pd.read_csv('Book1.csv')\n",
        "X = dataset.iloc[:, 0:-1].values\n",
        "y = dataset.iloc[:, -1].values"
      ],
      "metadata": {
        "id": "ZWMcvbmUbN5N"
      },
      "execution_count": 21,
      "outputs": []
    },
    {
      "cell_type": "code",
      "source": [
        "print(X)"
      ],
      "metadata": {
        "colab": {
          "base_uri": "https://localhost:8080/"
        },
        "id": "e_1NfLcyb8eq",
        "outputId": "e6bfc71f-96ab-4b58-8474-c4bf9bf8e152"
      },
      "execution_count": 22,
      "outputs": [
        {
          "output_type": "stream",
          "name": "stdout",
          "text": [
            "[[553 'Delhi' 'Female' ... 4 1 274150]\n",
            " [447 'Bengaluru' 'Male' ... 4 1 519360]\n",
            " [501 'Delhi' 'Female' ... 4 1 545501]\n",
            " ...\n",
            " [627 'Mumbai' 'Female' ... 4 0 494067]\n",
            " [600 'Bengaluru' 'Female' ... 2 1 109375]\n",
            " [553 'Delhi' 'Male' ... 4 1 180031]]\n"
          ]
        }
      ]
    },
    {
      "cell_type": "markdown",
      "source": [
        "Encoding Catergorical Data"
      ],
      "metadata": {
        "id": "E4HtJEOFrJ4H"
      }
    },
    {
      "cell_type": "markdown",
      "source": [
        "Gender Column: Label Encoding"
      ],
      "metadata": {
        "id": "MeGBhD_crQ40"
      }
    },
    {
      "cell_type": "code",
      "source": [
        "from sklearn.preprocessing import LabelEncoder\n",
        "label_encoder = LabelEncoder()\n",
        "X[:, 2] = label_encoder.fit_transform(X[:, 2])"
      ],
      "metadata": {
        "id": "Q3IAHv0drVUF"
      },
      "execution_count": 23,
      "outputs": []
    },
    {
      "cell_type": "code",
      "source": [
        "print(X)"
      ],
      "metadata": {
        "colab": {
          "base_uri": "https://localhost:8080/"
        },
        "id": "moSU37QssTz8",
        "outputId": "e127a503-3026-46da-865c-0c22ab0caca5"
      },
      "execution_count": 24,
      "outputs": [
        {
          "output_type": "stream",
          "name": "stdout",
          "text": [
            "[[553 'Delhi' 0 ... 4 1 274150]\n",
            " [447 'Bengaluru' 1 ... 4 1 519360]\n",
            " [501 'Delhi' 0 ... 4 1 545501]\n",
            " ...\n",
            " [627 'Mumbai' 0 ... 4 0 494067]\n",
            " [600 'Bengaluru' 0 ... 2 1 109375]\n",
            " [553 'Delhi' 1 ... 4 1 180031]]\n"
          ]
        }
      ]
    },
    {
      "cell_type": "markdown",
      "source": [
        "Geography column: One hot Encoding"
      ],
      "metadata": {
        "id": "6rillRdxsYjF"
      }
    },
    {
      "cell_type": "code",
      "source": [
        "from sklearn.compose import ColumnTransformer\n",
        "from sklearn.preprocessing import OneHotEncoder\n",
        "ct = ColumnTransformer(transformers= [('encoder',OneHotEncoder(), [1])], remainder='passthrough')\n",
        "X = np.array(ct.fit_transform(X))"
      ],
      "metadata": {
        "id": "UjMp3xREsdMm"
      },
      "execution_count": 25,
      "outputs": []
    },
    {
      "cell_type": "code",
      "source": [
        "print(X)"
      ],
      "metadata": {
        "colab": {
          "base_uri": "https://localhost:8080/"
        },
        "id": "vVUud5-_tq2W",
        "outputId": "ccf43898-1d4d-46c6-ecc0-d39d43b86eb8"
      },
      "execution_count": 26,
      "outputs": [
        {
          "output_type": "stream",
          "name": "stdout",
          "text": [
            "[[0.0 1.0 0.0 ... 4 1 274150]\n",
            " [1.0 0.0 0.0 ... 4 1 519360]\n",
            " [0.0 1.0 0.0 ... 4 1 545501]\n",
            " ...\n",
            " [0.0 0.0 1.0 ... 4 0 494067]\n",
            " [1.0 0.0 0.0 ... 2 1 109375]\n",
            " [0.0 1.0 0.0 ... 4 1 180031]]\n"
          ]
        }
      ]
    },
    {
      "cell_type": "markdown",
      "source": [
        "Splitting dataset into Training & Test set"
      ],
      "metadata": {
        "id": "GI4u3j9qGOwe"
      }
    },
    {
      "cell_type": "code",
      "source": [
        "from sklearn.model_selection import train_test_split\n",
        "X_train, X_test, y_train, y_test = train_test_split(X, y, test_size = 0.2, random_state = 0)"
      ],
      "metadata": {
        "id": "ieYQqUyRt2u1"
      },
      "execution_count": 27,
      "outputs": []
    },
    {
      "cell_type": "markdown",
      "source": [
        "Feature Scaling\n"
      ],
      "metadata": {
        "id": "6TwkYQJzuj98"
      }
    },
    {
      "cell_type": "code",
      "source": [
        "from sklearn.preprocessing import StandardScaler\n",
        "sc = StandardScaler()\n",
        "X_train = sc.fit_transform(X_train)\n",
        "X_test = sc.transform(X_test)"
      ],
      "metadata": {
        "id": "siymaNQLum9e"
      },
      "execution_count": 28,
      "outputs": []
    },
    {
      "cell_type": "markdown",
      "source": [
        "ANN"
      ],
      "metadata": {
        "id": "Xj5Cu_2MvCsk"
      }
    },
    {
      "cell_type": "markdown",
      "source": [
        "Initialization"
      ],
      "metadata": {
        "id": "yU_VY3A_vEbn"
      }
    },
    {
      "cell_type": "code",
      "source": [
        "ann = tf.keras.models.Sequential()"
      ],
      "metadata": {
        "id": "hVE1cbMzvx4j"
      },
      "execution_count": 29,
      "outputs": []
    },
    {
      "cell_type": "markdown",
      "source": [
        "Adding imput layer and first hidden layer"
      ],
      "metadata": {
        "id": "pBuneMQDvGhl"
      }
    },
    {
      "cell_type": "code",
      "source": [
        "ann.add(tf.keras.layers.Dense(units = 5, activation = 'relu'))"
      ],
      "metadata": {
        "id": "_-JHr28ev-R0"
      },
      "execution_count": 30,
      "outputs": []
    },
    {
      "cell_type": "markdown",
      "source": [
        "Adding second hidden layer"
      ],
      "metadata": {
        "id": "nTs-_izgvKON"
      }
    },
    {
      "cell_type": "code",
      "source": [
        "ann.add(tf.keras.layers.Dense(units = 5, activation = 'relu'))"
      ],
      "metadata": {
        "id": "f-KE2J_XwZZN"
      },
      "execution_count": 31,
      "outputs": []
    },
    {
      "cell_type": "markdown",
      "source": [
        "Adding output layer"
      ],
      "metadata": {
        "id": "E1xTIYV4vM3t"
      }
    },
    {
      "cell_type": "code",
      "source": [
        "ann.add(tf.keras.layers.Dense(units = 1, activation = 'sigmoid'))"
      ],
      "metadata": {
        "id": "mHJfadpUwuzf"
      },
      "execution_count": 50,
      "outputs": []
    },
    {
      "cell_type": "markdown",
      "source": [
        "ann.add(tf.keras.layers.Dense(units = 5, activation = 'sigmoid'))\n"
      ],
      "metadata": {
        "id": "gQw3P1hOTMdW"
      }
    },
    {
      "cell_type": "markdown",
      "source": [
        "ANN Training\n"
      ],
      "metadata": {
        "id": "0IMokcxMEhwb"
      }
    },
    {
      "cell_type": "markdown",
      "source": [
        "Compiling ANN"
      ],
      "metadata": {
        "id": "QpxDQzaKFNQb"
      }
    },
    {
      "cell_type": "code",
      "source": [
        "ann.compile(optimizer = 'adam', loss = 'binary_crossentropy', metrics = ['accuracy'])"
      ],
      "metadata": {
        "id": "oUao6qAKFP9P"
      },
      "execution_count": 51,
      "outputs": []
    },
    {
      "cell_type": "markdown",
      "source": [
        "Training on training dataset"
      ],
      "metadata": {
        "id": "--N8JJ2tEkgs"
      }
    },
    {
      "cell_type": "code",
      "source": [
        "ann.fit(X_train, y_train, batch_size = 32, epochs = 120)"
      ],
      "metadata": {
        "colab": {
          "base_uri": "https://localhost:8080/"
        },
        "id": "5YPAouXJMS-U",
        "outputId": "222112be-f447-4f75-86a9-971238e82966"
      },
      "execution_count": 52,
      "outputs": [
        {
          "output_type": "stream",
          "name": "stdout",
          "text": [
            "Epoch 1/120\n",
            "249/249 [==============================] - 1s 2ms/step - loss: 0.8019 - accuracy: 0.3361\n",
            "Epoch 2/120\n",
            "249/249 [==============================] - 0s 2ms/step - loss: 0.5705 - accuracy: 0.7966\n",
            "Epoch 3/120\n",
            "249/249 [==============================] - 0s 2ms/step - loss: 0.5066 - accuracy: 0.7966\n",
            "Epoch 4/120\n",
            "249/249 [==============================] - 0s 2ms/step - loss: 0.4791 - accuracy: 0.7966\n",
            "Epoch 5/120\n",
            "249/249 [==============================] - 0s 2ms/step - loss: 0.4568 - accuracy: 0.7966\n",
            "Epoch 6/120\n",
            "249/249 [==============================] - 0s 2ms/step - loss: 0.4452 - accuracy: 0.7966\n",
            "Epoch 7/120\n",
            "249/249 [==============================] - 0s 2ms/step - loss: 0.4393 - accuracy: 0.7966\n",
            "Epoch 8/120\n",
            "249/249 [==============================] - 0s 2ms/step - loss: 0.4355 - accuracy: 0.7966\n",
            "Epoch 9/120\n",
            "249/249 [==============================] - 1s 2ms/step - loss: 0.4334 - accuracy: 0.7966\n",
            "Epoch 10/120\n",
            "249/249 [==============================] - 0s 2ms/step - loss: 0.4313 - accuracy: 0.7965\n",
            "Epoch 11/120\n",
            "249/249 [==============================] - 0s 2ms/step - loss: 0.4298 - accuracy: 0.8023\n",
            "Epoch 12/120\n",
            "249/249 [==============================] - 0s 2ms/step - loss: 0.4282 - accuracy: 0.8117\n",
            "Epoch 13/120\n",
            "249/249 [==============================] - 0s 2ms/step - loss: 0.4267 - accuracy: 0.8131\n",
            "Epoch 14/120\n",
            "249/249 [==============================] - 0s 2ms/step - loss: 0.4252 - accuracy: 0.8172\n",
            "Epoch 15/120\n",
            "249/249 [==============================] - 1s 2ms/step - loss: 0.4236 - accuracy: 0.8164\n",
            "Epoch 16/120\n",
            "249/249 [==============================] - 1s 3ms/step - loss: 0.4220 - accuracy: 0.8190\n",
            "Epoch 17/120\n",
            "249/249 [==============================] - 1s 2ms/step - loss: 0.4202 - accuracy: 0.8180\n",
            "Epoch 18/120\n",
            "249/249 [==============================] - 1s 3ms/step - loss: 0.4183 - accuracy: 0.8193\n",
            "Epoch 19/120\n",
            "249/249 [==============================] - 1s 2ms/step - loss: 0.4161 - accuracy: 0.8204\n",
            "Epoch 20/120\n",
            "249/249 [==============================] - 0s 2ms/step - loss: 0.4136 - accuracy: 0.8214\n",
            "Epoch 21/120\n",
            "249/249 [==============================] - 0s 2ms/step - loss: 0.4117 - accuracy: 0.8204\n",
            "Epoch 22/120\n",
            "249/249 [==============================] - 0s 2ms/step - loss: 0.4088 - accuracy: 0.8219\n",
            "Epoch 23/120\n",
            "249/249 [==============================] - 0s 2ms/step - loss: 0.4062 - accuracy: 0.8224\n",
            "Epoch 24/120\n",
            "249/249 [==============================] - 0s 2ms/step - loss: 0.4033 - accuracy: 0.8231\n",
            "Epoch 25/120\n",
            "249/249 [==============================] - 0s 2ms/step - loss: 0.4009 - accuracy: 0.8318\n",
            "Epoch 26/120\n",
            "249/249 [==============================] - 0s 2ms/step - loss: 0.3981 - accuracy: 0.8329\n",
            "Epoch 27/120\n",
            "249/249 [==============================] - 1s 3ms/step - loss: 0.3962 - accuracy: 0.8345\n",
            "Epoch 28/120\n",
            "249/249 [==============================] - 1s 3ms/step - loss: 0.3942 - accuracy: 0.8362\n",
            "Epoch 29/120\n",
            "249/249 [==============================] - 1s 3ms/step - loss: 0.3918 - accuracy: 0.8363\n",
            "Epoch 30/120\n",
            "249/249 [==============================] - 1s 3ms/step - loss: 0.3900 - accuracy: 0.8370\n",
            "Epoch 31/120\n",
            "249/249 [==============================] - 1s 2ms/step - loss: 0.3883 - accuracy: 0.8381\n",
            "Epoch 32/120\n",
            "249/249 [==============================] - 0s 2ms/step - loss: 0.3867 - accuracy: 0.8401\n",
            "Epoch 33/120\n",
            "249/249 [==============================] - 0s 2ms/step - loss: 0.3852 - accuracy: 0.8399\n",
            "Epoch 34/120\n",
            "249/249 [==============================] - 0s 2ms/step - loss: 0.3837 - accuracy: 0.8396\n",
            "Epoch 35/120\n",
            "249/249 [==============================] - 0s 2ms/step - loss: 0.3824 - accuracy: 0.8402\n",
            "Epoch 36/120\n",
            "249/249 [==============================] - 0s 2ms/step - loss: 0.3814 - accuracy: 0.8403\n",
            "Epoch 37/120\n",
            "249/249 [==============================] - 0s 2ms/step - loss: 0.3795 - accuracy: 0.8415\n",
            "Epoch 38/120\n",
            "249/249 [==============================] - 0s 2ms/step - loss: 0.3787 - accuracy: 0.8430\n",
            "Epoch 39/120\n",
            "249/249 [==============================] - 0s 2ms/step - loss: 0.3775 - accuracy: 0.8433\n",
            "Epoch 40/120\n",
            "249/249 [==============================] - 1s 3ms/step - loss: 0.3765 - accuracy: 0.8444\n",
            "Epoch 41/120\n",
            "249/249 [==============================] - 1s 3ms/step - loss: 0.3750 - accuracy: 0.8432\n",
            "Epoch 42/120\n",
            "249/249 [==============================] - 1s 3ms/step - loss: 0.3737 - accuracy: 0.8444\n",
            "Epoch 43/120\n",
            "249/249 [==============================] - 1s 3ms/step - loss: 0.3731 - accuracy: 0.8449\n",
            "Epoch 44/120\n",
            "249/249 [==============================] - 1s 2ms/step - loss: 0.3723 - accuracy: 0.8440\n",
            "Epoch 45/120\n",
            "249/249 [==============================] - 0s 2ms/step - loss: 0.3712 - accuracy: 0.8464\n",
            "Epoch 46/120\n",
            "249/249 [==============================] - 0s 2ms/step - loss: 0.3710 - accuracy: 0.8450\n",
            "Epoch 47/120\n",
            "249/249 [==============================] - 0s 2ms/step - loss: 0.3703 - accuracy: 0.8456\n",
            "Epoch 48/120\n",
            "249/249 [==============================] - 0s 2ms/step - loss: 0.3699 - accuracy: 0.8455\n",
            "Epoch 49/120\n",
            "249/249 [==============================] - 0s 2ms/step - loss: 0.3691 - accuracy: 0.8451\n",
            "Epoch 50/120\n",
            "249/249 [==============================] - 0s 2ms/step - loss: 0.3686 - accuracy: 0.8460\n",
            "Epoch 51/120\n",
            "249/249 [==============================] - 0s 2ms/step - loss: 0.3685 - accuracy: 0.8462\n",
            "Epoch 52/120\n",
            "249/249 [==============================] - 0s 2ms/step - loss: 0.3679 - accuracy: 0.8452\n",
            "Epoch 53/120\n",
            "249/249 [==============================] - 0s 2ms/step - loss: 0.3679 - accuracy: 0.8466\n",
            "Epoch 54/120\n",
            "249/249 [==============================] - 0s 2ms/step - loss: 0.3676 - accuracy: 0.8460\n",
            "Epoch 55/120\n",
            "249/249 [==============================] - 0s 2ms/step - loss: 0.3674 - accuracy: 0.8452\n",
            "Epoch 56/120\n",
            "249/249 [==============================] - 0s 2ms/step - loss: 0.3672 - accuracy: 0.8452\n",
            "Epoch 57/120\n",
            "249/249 [==============================] - 0s 2ms/step - loss: 0.3667 - accuracy: 0.8460\n",
            "Epoch 58/120\n",
            "249/249 [==============================] - 0s 2ms/step - loss: 0.3668 - accuracy: 0.8452\n",
            "Epoch 59/120\n",
            "249/249 [==============================] - 0s 2ms/step - loss: 0.3664 - accuracy: 0.8452\n",
            "Epoch 60/120\n",
            "249/249 [==============================] - 0s 2ms/step - loss: 0.3664 - accuracy: 0.8470\n",
            "Epoch 61/120\n",
            "249/249 [==============================] - 0s 2ms/step - loss: 0.3664 - accuracy: 0.8459\n",
            "Epoch 62/120\n",
            "249/249 [==============================] - 0s 2ms/step - loss: 0.3660 - accuracy: 0.8475\n",
            "Epoch 63/120\n",
            "249/249 [==============================] - 0s 2ms/step - loss: 0.3659 - accuracy: 0.8464\n",
            "Epoch 64/120\n",
            "249/249 [==============================] - 0s 2ms/step - loss: 0.3659 - accuracy: 0.8454\n",
            "Epoch 65/120\n",
            "249/249 [==============================] - 0s 2ms/step - loss: 0.3657 - accuracy: 0.8459\n",
            "Epoch 66/120\n",
            "249/249 [==============================] - 1s 2ms/step - loss: 0.3657 - accuracy: 0.8459\n",
            "Epoch 67/120\n",
            "249/249 [==============================] - 1s 3ms/step - loss: 0.3653 - accuracy: 0.8474\n",
            "Epoch 68/120\n",
            "249/249 [==============================] - 1s 3ms/step - loss: 0.3656 - accuracy: 0.8462\n",
            "Epoch 69/120\n",
            "249/249 [==============================] - 1s 3ms/step - loss: 0.3653 - accuracy: 0.8455\n",
            "Epoch 70/120\n",
            "249/249 [==============================] - 1s 2ms/step - loss: 0.3654 - accuracy: 0.8459\n",
            "Epoch 71/120\n",
            "249/249 [==============================] - 0s 2ms/step - loss: 0.3654 - accuracy: 0.8460\n",
            "Epoch 72/120\n",
            "249/249 [==============================] - 0s 2ms/step - loss: 0.3651 - accuracy: 0.8466\n",
            "Epoch 73/120\n",
            "249/249 [==============================] - 0s 2ms/step - loss: 0.3651 - accuracy: 0.8475\n",
            "Epoch 74/120\n",
            "249/249 [==============================] - 0s 2ms/step - loss: 0.3650 - accuracy: 0.8479\n",
            "Epoch 75/120\n",
            "249/249 [==============================] - 0s 2ms/step - loss: 0.3648 - accuracy: 0.8474\n",
            "Epoch 76/120\n",
            "249/249 [==============================] - 0s 2ms/step - loss: 0.3651 - accuracy: 0.8470\n",
            "Epoch 77/120\n",
            "249/249 [==============================] - 0s 2ms/step - loss: 0.3650 - accuracy: 0.8466\n",
            "Epoch 78/120\n",
            "249/249 [==============================] - 0s 2ms/step - loss: 0.3647 - accuracy: 0.8480\n",
            "Epoch 79/120\n",
            "249/249 [==============================] - 0s 2ms/step - loss: 0.3648 - accuracy: 0.8469\n",
            "Epoch 80/120\n",
            "249/249 [==============================] - 0s 2ms/step - loss: 0.3643 - accuracy: 0.8466\n",
            "Epoch 81/120\n",
            "249/249 [==============================] - 0s 2ms/step - loss: 0.3644 - accuracy: 0.8461\n",
            "Epoch 82/120\n",
            "249/249 [==============================] - 0s 2ms/step - loss: 0.3643 - accuracy: 0.8474\n",
            "Epoch 83/120\n",
            "249/249 [==============================] - 0s 2ms/step - loss: 0.3639 - accuracy: 0.8457\n",
            "Epoch 84/120\n",
            "249/249 [==============================] - 0s 2ms/step - loss: 0.3643 - accuracy: 0.8474\n",
            "Epoch 85/120\n",
            "249/249 [==============================] - 0s 2ms/step - loss: 0.3639 - accuracy: 0.8466\n",
            "Epoch 86/120\n",
            "249/249 [==============================] - 0s 2ms/step - loss: 0.3642 - accuracy: 0.8471\n",
            "Epoch 87/120\n",
            "249/249 [==============================] - 0s 2ms/step - loss: 0.3641 - accuracy: 0.8454\n",
            "Epoch 88/120\n",
            "249/249 [==============================] - 0s 2ms/step - loss: 0.3641 - accuracy: 0.8462\n",
            "Epoch 89/120\n",
            "249/249 [==============================] - 0s 2ms/step - loss: 0.3638 - accuracy: 0.8454\n",
            "Epoch 90/120\n",
            "249/249 [==============================] - 0s 2ms/step - loss: 0.3639 - accuracy: 0.8467\n",
            "Epoch 91/120\n",
            "249/249 [==============================] - 0s 2ms/step - loss: 0.3636 - accuracy: 0.8470\n",
            "Epoch 92/120\n",
            "249/249 [==============================] - 0s 2ms/step - loss: 0.3637 - accuracy: 0.8464\n",
            "Epoch 93/120\n",
            "249/249 [==============================] - 1s 2ms/step - loss: 0.3638 - accuracy: 0.8464\n",
            "Epoch 94/120\n",
            "249/249 [==============================] - 1s 3ms/step - loss: 0.3635 - accuracy: 0.8479\n",
            "Epoch 95/120\n",
            "249/249 [==============================] - 1s 3ms/step - loss: 0.3635 - accuracy: 0.8471\n",
            "Epoch 96/120\n",
            "249/249 [==============================] - 1s 3ms/step - loss: 0.3634 - accuracy: 0.8462\n",
            "Epoch 97/120\n",
            "249/249 [==============================] - 0s 2ms/step - loss: 0.3636 - accuracy: 0.8457\n",
            "Epoch 98/120\n",
            "249/249 [==============================] - 0s 2ms/step - loss: 0.3632 - accuracy: 0.8467\n",
            "Epoch 99/120\n",
            "249/249 [==============================] - 0s 2ms/step - loss: 0.3633 - accuracy: 0.8470\n",
            "Epoch 100/120\n",
            "249/249 [==============================] - 0s 2ms/step - loss: 0.3633 - accuracy: 0.8466\n",
            "Epoch 101/120\n",
            "249/249 [==============================] - 0s 2ms/step - loss: 0.3632 - accuracy: 0.8462\n",
            "Epoch 102/120\n",
            "249/249 [==============================] - 0s 2ms/step - loss: 0.3632 - accuracy: 0.8459\n",
            "Epoch 103/120\n",
            "249/249 [==============================] - 0s 2ms/step - loss: 0.3632 - accuracy: 0.8456\n",
            "Epoch 104/120\n",
            "249/249 [==============================] - 0s 2ms/step - loss: 0.3631 - accuracy: 0.8456\n",
            "Epoch 105/120\n",
            "249/249 [==============================] - 0s 2ms/step - loss: 0.3634 - accuracy: 0.8461\n",
            "Epoch 106/120\n",
            "249/249 [==============================] - 0s 2ms/step - loss: 0.3630 - accuracy: 0.8457\n",
            "Epoch 107/120\n",
            "249/249 [==============================] - 0s 2ms/step - loss: 0.3631 - accuracy: 0.8465\n",
            "Epoch 108/120\n",
            "249/249 [==============================] - 0s 2ms/step - loss: 0.3631 - accuracy: 0.8461\n",
            "Epoch 109/120\n",
            "249/249 [==============================] - 0s 2ms/step - loss: 0.3630 - accuracy: 0.8464\n",
            "Epoch 110/120\n",
            "249/249 [==============================] - 0s 2ms/step - loss: 0.3630 - accuracy: 0.8452\n",
            "Epoch 111/120\n",
            "249/249 [==============================] - 0s 2ms/step - loss: 0.3628 - accuracy: 0.8456\n",
            "Epoch 112/120\n",
            "249/249 [==============================] - 0s 2ms/step - loss: 0.3627 - accuracy: 0.8457\n",
            "Epoch 113/120\n",
            "249/249 [==============================] - 0s 2ms/step - loss: 0.3627 - accuracy: 0.8465\n",
            "Epoch 114/120\n",
            "249/249 [==============================] - 0s 2ms/step - loss: 0.3621 - accuracy: 0.8476\n",
            "Epoch 115/120\n",
            "249/249 [==============================] - 0s 2ms/step - loss: 0.3625 - accuracy: 0.8462\n",
            "Epoch 116/120\n",
            "249/249 [==============================] - 0s 2ms/step - loss: 0.3628 - accuracy: 0.8459\n",
            "Epoch 117/120\n",
            "249/249 [==============================] - 0s 2ms/step - loss: 0.3626 - accuracy: 0.8459\n",
            "Epoch 118/120\n",
            "249/249 [==============================] - 0s 2ms/step - loss: 0.3627 - accuracy: 0.8462\n",
            "Epoch 119/120\n",
            "249/249 [==============================] - 1s 2ms/step - loss: 0.3623 - accuracy: 0.8470\n",
            "Epoch 120/120\n",
            "249/249 [==============================] - 1s 3ms/step - loss: 0.3624 - accuracy: 0.8460\n"
          ]
        },
        {
          "output_type": "execute_result",
          "data": {
            "text/plain": [
              "<keras.src.callbacks.History at 0x7c9df5a45f60>"
            ]
          },
          "metadata": {},
          "execution_count": 52
        }
      ]
    },
    {
      "cell_type": "markdown",
      "source": [
        "Predictions"
      ],
      "metadata": {
        "id": "9aqgio4qEn0D"
      }
    },
    {
      "cell_type": "markdown",
      "source": [
        "Single prediction"
      ],
      "metadata": {
        "id": "mKesZvB0EqLt"
      }
    },
    {
      "cell_type": "code",
      "source": [
        "print(ann.predict(sc.transform([[0.0, 1.0, 0.0, 501, 0, 32, 2, 0.0, 4, 1, 545501]]))> 0.5)"
      ],
      "metadata": {
        "colab": {
          "base_uri": "https://localhost:8080/"
        },
        "id": "Lwr7OzVqPOLH",
        "outputId": "8386244f-f765-440e-b1bc-b7192ebff15c"
      },
      "execution_count": 53,
      "outputs": [
        {
          "output_type": "stream",
          "name": "stdout",
          "text": [
            "1/1 [==============================] - 0s 66ms/step\n",
            "[[False]]\n"
          ]
        }
      ]
    },
    {
      "cell_type": "markdown",
      "source": [
        "Predication on testset"
      ],
      "metadata": {
        "id": "RRlRsbn4Eshd"
      }
    },
    {
      "cell_type": "code",
      "source": [
        "y_pred = ann.predict(X_test)\n",
        "y_pred = (y_pred > 0.5)\n",
        "print(np.concatenate((y_pred.reshape(len(y_pred),1), y_test.reshape(len(y_test),1)),1))"
      ],
      "metadata": {
        "colab": {
          "base_uri": "https://localhost:8080/"
        },
        "id": "DtLKooUjP-YQ",
        "outputId": "04c8fb6b-4d6b-4e23-c134-bf8c4159cb22"
      },
      "execution_count": 55,
      "outputs": [
        {
          "output_type": "stream",
          "name": "stdout",
          "text": [
            "63/63 [==============================] - 0s 1ms/step\n",
            "[[0 1]\n",
            " [0 0]\n",
            " [0 0]\n",
            " ...\n",
            " [0 1]\n",
            " [0 0]\n",
            " [0 1]]\n"
          ]
        }
      ]
    },
    {
      "cell_type": "markdown",
      "source": [
        "Confusion Matrix"
      ],
      "metadata": {
        "id": "K_2okK4NQg38"
      }
    },
    {
      "cell_type": "code",
      "source": [
        "from sklearn.metrics import confusion_matrix, accuracy_score\n",
        "cm = confusion_matrix(y_test, y_pred)\n",
        "print(cm)\n",
        "accuracy_score(y_test, y_pred)"
      ],
      "metadata": {
        "colab": {
          "base_uri": "https://localhost:8080/"
        },
        "id": "n6k18aKdQjuv",
        "outputId": "3b067e79-7039-46a7-9289-0b4ca601ed56"
      },
      "execution_count": 56,
      "outputs": [
        {
          "output_type": "stream",
          "name": "stdout",
          "text": [
            "[[1512   61]\n",
            " [ 223  190]]\n"
          ]
        },
        {
          "output_type": "execute_result",
          "data": {
            "text/plain": [
              "0.8569989929506546"
            ]
          },
          "metadata": {},
          "execution_count": 56
        }
      ]
    }
  ]
}